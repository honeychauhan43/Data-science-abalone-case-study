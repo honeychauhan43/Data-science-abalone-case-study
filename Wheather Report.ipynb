{
 "cells": [
  {
   "cell_type": "code",
   "execution_count": 1,
   "metadata": {},
   "outputs": [],
   "source": [
    "import urllib\n",
    "import bs4\n",
    "import requests\n",
    "from bs4 import BeautifulSoup\n",
    "import pandas as pd"
   ]
  },
  {
   "cell_type": "code",
   "execution_count": 2,
   "metadata": {},
   "outputs": [],
   "source": [
    "page=requests.get(\"https://forecast.weather.gov/MapClick.php?lat=34.1&lon=-118.327#.XKoRjpgzY2w\")"
   ]
  },
  {
   "cell_type": "code",
   "execution_count": 3,
   "metadata": {},
   "outputs": [],
   "source": [
    "soup = BeautifulSoup(page.content,'html.parser')"
   ]
  },
  {
   "cell_type": "code",
   "execution_count": 4,
   "metadata": {},
   "outputs": [],
   "source": [
    "week = soup.find(id=\"seven-day-forecast-body\")"
   ]
  },
  {
   "cell_type": "code",
   "execution_count": 5,
   "metadata": {},
   "outputs": [
    {
     "data": {
      "text/plain": [
       "'\\n\\n\\nToday\\nMostly SunnyHigh: 84 °F\\n\\nTonight\\nPartly CloudyLow: 60 °F\\n\\nFriday\\nMostly SunnyHigh: 82 °F\\n\\nFridayNight\\nPatchy FogLow: 58 °F\\n\\nSaturday\\nPatchy Fogthen MostlySunnyHigh: 70 °F\\n\\nSaturdayNight\\nPatchy FogLow: 54 °F\\n\\nSunday\\nPatchy Fogthen SunnyHigh: 71 °F\\n\\nSundayNight\\nMostly ClearLow: 55 °F\\n\\nMonday\\nSunnyHigh: 77 °F\\n\\n// equalize forecast heights\\n$(function () {\\n\\tvar maxh = 0;\\n\\t$(\".forecast-tombstone .short-desc\").each(function () {\\n\\t\\tvar h = $(this).height();\\n\\t\\tif (h > maxh) { maxh = h; }\\n\\t});\\n\\t$(\".forecast-tombstone .short-desc\").height(maxh);\\n});\\n '"
      ]
     },
     "execution_count": 5,
     "metadata": {},
     "output_type": "execute_result"
    }
   ],
   "source": [
    "week.get_text()"
   ]
  },
  {
   "cell_type": "code",
   "execution_count": 6,
   "metadata": {},
   "outputs": [],
   "source": [
    "items= week.find_all(class_=\"tombstone-container\")"
   ]
  },
  {
   "cell_type": "code",
   "execution_count": 7,
   "metadata": {},
   "outputs": [
    {
     "data": {
      "text/plain": [
       "<div class=\"tombstone-container\">\n",
       "<p class=\"period-name\">Today<br/><br/></p>\n",
       "<p><img alt=\"Today: Mostly sunny, with a high near 84. Northeast wind around 5 mph becoming south southwest in the afternoon. \" class=\"forecast-icon\" src=\"newimages/medium/sct.png\" title=\"Today: Mostly sunny, with a high near 84. Northeast wind around 5 mph becoming south southwest in the afternoon. \"/></p><p class=\"short-desc\">Mostly Sunny</p><p class=\"temp temp-high\">High: 84 °F</p></div>"
      ]
     },
     "execution_count": 7,
     "metadata": {},
     "output_type": "execute_result"
    }
   ],
   "source": [
    "items[0]"
   ]
  },
  {
   "cell_type": "code",
   "execution_count": 8,
   "metadata": {},
   "outputs": [
    {
     "name": "stdout",
     "output_type": "stream",
     "text": [
      "Today\n",
      "Mostly Sunny\n",
      "High: 84 °F\n"
     ]
    }
   ],
   "source": [
    "print(items[0].find(class_=\"period-name\").get_text())\n",
    "print(items[0].find(class_=\"short-desc\").get_text())\n",
    "print(items[0].find(class_=\"temp\").get_text())"
   ]
  },
  {
   "cell_type": "code",
   "execution_count": 9,
   "metadata": {},
   "outputs": [],
   "source": [
    "period_names = [i.find(class_=\"period-name\").get_text()for i in items]"
   ]
  },
  {
   "cell_type": "code",
   "execution_count": 10,
   "metadata": {},
   "outputs": [
    {
     "data": {
      "text/plain": [
       "['Today',\n",
       " 'Tonight',\n",
       " 'Friday',\n",
       " 'FridayNight',\n",
       " 'Saturday',\n",
       " 'SaturdayNight',\n",
       " 'Sunday',\n",
       " 'SundayNight',\n",
       " 'Monday']"
      ]
     },
     "execution_count": 10,
     "metadata": {},
     "output_type": "execute_result"
    }
   ],
   "source": [
    "period_names"
   ]
  },
  {
   "cell_type": "code",
   "execution_count": 11,
   "metadata": {},
   "outputs": [],
   "source": [
    "short_desc = [i.find(class_=\"short-desc\").get_text()for i in items]"
   ]
  },
  {
   "cell_type": "code",
   "execution_count": 12,
   "metadata": {},
   "outputs": [
    {
     "data": {
      "text/plain": [
       "['Mostly Sunny',\n",
       " 'Partly Cloudy',\n",
       " 'Mostly Sunny',\n",
       " 'Patchy Fog',\n",
       " 'Patchy Fogthen MostlySunny',\n",
       " 'Patchy Fog',\n",
       " 'Patchy Fogthen Sunny',\n",
       " 'Mostly Clear',\n",
       " 'Sunny']"
      ]
     },
     "execution_count": 12,
     "metadata": {},
     "output_type": "execute_result"
    }
   ],
   "source": [
    "short_desc"
   ]
  },
  {
   "cell_type": "code",
   "execution_count": 13,
   "metadata": {},
   "outputs": [],
   "source": [
    "temp = [i.find(class_=\"temp\").get_text()for i in items]"
   ]
  },
  {
   "cell_type": "code",
   "execution_count": 14,
   "metadata": {},
   "outputs": [
    {
     "data": {
      "text/plain": [
       "['High: 84 °F',\n",
       " 'Low: 60 °F',\n",
       " 'High: 82 °F',\n",
       " 'Low: 58 °F',\n",
       " 'High: 70 °F',\n",
       " 'Low: 54 °F',\n",
       " 'High: 71 °F',\n",
       " 'Low: 55 °F',\n",
       " 'High: 77 °F']"
      ]
     },
     "execution_count": 14,
     "metadata": {},
     "output_type": "execute_result"
    }
   ],
   "source": [
    "temp"
   ]
  },
  {
   "cell_type": "code",
   "execution_count": 15,
   "metadata": {},
   "outputs": [],
   "source": [
    "Wheather = pd.DataFrame({\n",
    "    \"period name\":period_names,\n",
    "    \"short description\":short_desc,\n",
    "    \"temperature\":temp,\n",
    "})"
   ]
  },
  {
   "cell_type": "code",
   "execution_count": 16,
   "metadata": {},
   "outputs": [
    {
     "data": {
      "text/html": [
       "<div>\n",
       "<style scoped>\n",
       "    .dataframe tbody tr th:only-of-type {\n",
       "        vertical-align: middle;\n",
       "    }\n",
       "\n",
       "    .dataframe tbody tr th {\n",
       "        vertical-align: top;\n",
       "    }\n",
       "\n",
       "    .dataframe thead th {\n",
       "        text-align: right;\n",
       "    }\n",
       "</style>\n",
       "<table border=\"1\" class=\"dataframe\">\n",
       "  <thead>\n",
       "    <tr style=\"text-align: right;\">\n",
       "      <th></th>\n",
       "      <th>period name</th>\n",
       "      <th>short description</th>\n",
       "      <th>temperature</th>\n",
       "    </tr>\n",
       "  </thead>\n",
       "  <tbody>\n",
       "    <tr>\n",
       "      <th>0</th>\n",
       "      <td>Today</td>\n",
       "      <td>Mostly Sunny</td>\n",
       "      <td>High: 84 °F</td>\n",
       "    </tr>\n",
       "    <tr>\n",
       "      <th>1</th>\n",
       "      <td>Tonight</td>\n",
       "      <td>Partly Cloudy</td>\n",
       "      <td>Low: 60 °F</td>\n",
       "    </tr>\n",
       "    <tr>\n",
       "      <th>2</th>\n",
       "      <td>Friday</td>\n",
       "      <td>Mostly Sunny</td>\n",
       "      <td>High: 82 °F</td>\n",
       "    </tr>\n",
       "    <tr>\n",
       "      <th>3</th>\n",
       "      <td>FridayNight</td>\n",
       "      <td>Patchy Fog</td>\n",
       "      <td>Low: 58 °F</td>\n",
       "    </tr>\n",
       "    <tr>\n",
       "      <th>4</th>\n",
       "      <td>Saturday</td>\n",
       "      <td>Patchy Fogthen MostlySunny</td>\n",
       "      <td>High: 70 °F</td>\n",
       "    </tr>\n",
       "    <tr>\n",
       "      <th>5</th>\n",
       "      <td>SaturdayNight</td>\n",
       "      <td>Patchy Fog</td>\n",
       "      <td>Low: 54 °F</td>\n",
       "    </tr>\n",
       "    <tr>\n",
       "      <th>6</th>\n",
       "      <td>Sunday</td>\n",
       "      <td>Patchy Fogthen Sunny</td>\n",
       "      <td>High: 71 °F</td>\n",
       "    </tr>\n",
       "    <tr>\n",
       "      <th>7</th>\n",
       "      <td>SundayNight</td>\n",
       "      <td>Mostly Clear</td>\n",
       "      <td>Low: 55 °F</td>\n",
       "    </tr>\n",
       "    <tr>\n",
       "      <th>8</th>\n",
       "      <td>Monday</td>\n",
       "      <td>Sunny</td>\n",
       "      <td>High: 77 °F</td>\n",
       "    </tr>\n",
       "  </tbody>\n",
       "</table>\n",
       "</div>"
      ],
      "text/plain": [
       "     period name           short description  temperature\n",
       "0          Today                Mostly Sunny  High: 84 °F\n",
       "1        Tonight               Partly Cloudy   Low: 60 °F\n",
       "2         Friday                Mostly Sunny  High: 82 °F\n",
       "3    FridayNight                  Patchy Fog   Low: 58 °F\n",
       "4       Saturday  Patchy Fogthen MostlySunny  High: 70 °F\n",
       "5  SaturdayNight                  Patchy Fog   Low: 54 °F\n",
       "6         Sunday        Patchy Fogthen Sunny  High: 71 °F\n",
       "7    SundayNight                Mostly Clear   Low: 55 °F\n",
       "8         Monday                       Sunny  High: 77 °F"
      ]
     },
     "execution_count": 16,
     "metadata": {},
     "output_type": "execute_result"
    }
   ],
   "source": [
    "Wheather"
   ]
  },
  {
   "cell_type": "code",
   "execution_count": 17,
   "metadata": {},
   "outputs": [],
   "source": [
    "Wheather.to_csv(\"Wheather.csv\")"
   ]
  }
 ],
 "metadata": {
  "kernelspec": {
   "display_name": "Python 3",
   "language": "python",
   "name": "python3"
  },
  "language_info": {
   "codemirror_mode": {
    "name": "ipython",
    "version": 3
   },
   "file_extension": ".py",
   "mimetype": "text/x-python",
   "name": "python",
   "nbconvert_exporter": "python",
   "pygments_lexer": "ipython3",
   "version": "3.7.1"
  }
 },
 "nbformat": 4,
 "nbformat_minor": 2
}
